{
 "cells": [
  {
   "cell_type": "code",
   "execution_count": 1,
   "metadata": {},
   "outputs": [],
   "source": [
    "import tensorflow as tf\n",
    "from sklearn.model_selection import train_test_split\n",
    "import time\n",
    "import random\n",
    "import re\n",
    "import pandas as pd\n",
    "import feather\n",
    "from sklearn import datasets\n",
    "import sklearn"
   ]
  },
  {
   "cell_type": "code",
   "execution_count": 2,
   "metadata": {},
   "outputs": [],
   "source": [
    "def separate_dataset(trainset, ratio = 0.5):\n",
    "    datastring = []\n",
    "    datatarget = []\n",
    "    for i in range(len(trainset.data)):\n",
    "        data_ = trainset.data[i].split('\\n')\n",
    "        data_ = list(filter(None, data_))\n",
    "        data_ = random.sample(data_, int(len(data_) * ratio))\n",
    "        for n in range(len(data_)):\n",
    "            data_[n] = clearstring(data_[n])\n",
    "        datastring += data_\n",
    "        for n in range(len(data_)):\n",
    "            datatarget.append(trainset.target[i])\n",
    "    return datastring, datatarget\n",
    "\n",
    "def clearstring(string):\n",
    "    string = re.sub('[^A-Za-z0-9 ]+', '', string)\n",
    "    string = string.split(' ')\n",
    "    string = filter(None, string)\n",
    "    string = ' '.join(string)\n",
    "    return string.lower()\n",
    "\n",
    "trainset = sklearn.datasets.load_files(container_path = 'data', encoding = 'UTF-8')\n",
    "trainset.data, trainset.target = separate_dataset(trainset,1.0)\n",
    "\n",
    "train = pd.DataFrame(trainset.data,columns=['sequence'])\n",
    "label = pd.DataFrame(trainset.target,columns=['labels'])"
   ]
  },
  {
   "cell_type": "code",
   "execution_count": 3,
   "metadata": {},
   "outputs": [],
   "source": [
    "num_words = 50000\n",
    "column_name = 'word_seg'\n",
    "word_seq_len = 1800\n",
    "embedding_vector = 200"
   ]
  },
  {
   "cell_type": "code",
   "execution_count": 6,
   "metadata": {},
   "outputs": [],
   "source": [
    "from keras.preprocessing import text,sequence\n",
    "from gensim.models import Word2Vec\n",
    "num_words = 50000\n",
    "import os\n",
    "import numpy as np\n",
    "\n",
    "def w2v_pad(df_train, col, maxlen_, victor_size):\n",
    "    tokenizer = text.Tokenizer()\n",
    "    tokenizer.fit_on_texts(list(df_train[col].values))\n",
    "    \n",
    "    train_ = sequence.pad_sequences(tokenizer.texts_to_sequences(df_train[col].values), maxlen=maxlen_)\n",
    "    word_index = tokenizer.word_index\n",
    "    \n",
    "    count = 0\n",
    "    nb_words = len(word_index)\n",
    "    print(nb_words)\n",
    "    \n",
    "    all_data = df_train[col]\n",
    "    file_name = './Word2Vec_' + col  +\"_\"+ '200' + '.model'\n",
    "    if not os.path.exists(file_name):\n",
    "        model = Word2Vec([[word for word in document.split(' ')] for document in all_data.values],\n",
    "                         size=victor_size, window=5, iter=10, workers=11, seed=2018, min_count=2)\n",
    "        model.save(file_name)\n",
    "    else:\n",
    "        model = Word2Vec.load(file_name)\n",
    "        \n",
    "    embedding_word2vec_matrix = np.zeros((nb_words+1, victor_size))\n",
    "    for word, i in word_index.items():\n",
    "        embedding_vector = model[word] if word in model else None\n",
    "        if embedding_vector is not None:\n",
    "            count += 1\n",
    "            embedding_word2vec_matrix[i] = embedding_vector\n",
    "        else:\n",
    "            unk_vec = np.random.random(victor_size) * 0.5\n",
    "            unk_vec = unk_vec - unk_vec.mean()\n",
    "            embedding_word2vec_matrix[i] = unk_vec    \n",
    "    \n",
    "    return train_, word_index, embedding_word2vec_matrix"
   ]
  },
  {
   "cell_type": "code",
   "execution_count": 7,
   "metadata": {},
   "outputs": [
    {
     "name": "stdout",
     "output_type": "stream",
     "text": [
      "20465\n"
     ]
    },
    {
     "name": "stderr",
     "output_type": "stream",
     "text": [
      "/usr/local/lib/python3.6/dist-packages/ipykernel_launcher.py:29: DeprecationWarning: Call to deprecated `__contains__` (Method will be removed in 4.0.0, use self.wv.__contains__() instead).\n",
      "/usr/local/lib/python3.6/dist-packages/ipykernel_launcher.py:29: DeprecationWarning: Call to deprecated `__getitem__` (Method will be removed in 4.0.0, use self.wv.__getitem__() instead).\n"
     ]
    }
   ],
   "source": [
    "train_, word2idx, word_embedding = w2v_pad(train, 'sequence', 40, 200)"
   ]
  },
  {
   "cell_type": "code",
   "execution_count": 9,
   "metadata": {},
   "outputs": [],
   "source": [
    "from sklearn.preprocessing import LabelEncoder\n",
    "from keras.utils import to_categorical\n",
    "\n",
    "lb = LabelEncoder()\n",
    "train_label = lb.fit_transform(label['labels'].values)\n",
    "train_label = to_categorical(train_label)"
   ]
  },
  {
   "cell_type": "code",
   "execution_count": null,
   "metadata": {},
   "outputs": [],
   "source": [
    "class Model:\n",
    "    def __init__(self, size_layer, num_layers, embedding_matrix, \n",
    "                 dimension_output, learning_rate):\n",
    "        def cells(size=128, reuse = False):\n",
    "            return tf.nn.rnn_cell.BasicLSTMCell(size, reuse=reuse)\n",
    "        \n",
    "        def add_highway(x, i):\n",
    "            reshaped = tf.reshape(x, [-1, ])\n",
    "    \n",
    "        self.X = tf.placeholder(tf.int32, [None, 40])\n",
    "        self.Y = tf.placeholder(tf.float32, [None, dimension_output])\n",
    "        \n",
    "        encoder_embedding = tf.Variable(embedding_matrix)\n",
    "        encoder_embedded = tf.nn.embedding_lookup(encoder_embedding, self.X)\n",
    "        w1 = tf.get_variable(\"w1\", [3, 200, 200],dtype=tf.float64)\n",
    "        b1 = tf.get_variable(\"b1\", [1, 1, 2], dtype=tf.float64)\n",
    "        out = tf.nn.conv1d(encoder_embedded, w1, stride=1, padding=\"SAME\")\n",
    "        \n",
    "        "
   ]
  }
 ],
 "metadata": {
  "kernelspec": {
   "display_name": "Python 3",
   "language": "python",
   "name": "python3"
  },
  "language_info": {
   "codemirror_mode": {
    "name": "ipython",
    "version": 3
   },
   "file_extension": ".py",
   "mimetype": "text/x-python",
   "name": "python",
   "nbconvert_exporter": "python",
   "pygments_lexer": "ipython3",
   "version": "3.6.8"
  }
 },
 "nbformat": 4,
 "nbformat_minor": 2
}
