{
 "cells": [
  {
   "cell_type": "code",
   "execution_count": 1,
   "metadata": {},
   "outputs": [],
   "source": [
    "import tensorflow as tf\n",
    "from sklearn.model_selection import train_test_split\n",
    "import time\n",
    "import random\n",
    "import re\n",
    "import pandas as pd\n",
    "import feather\n",
    "from sklearn import datasets\n",
    "import sklearn"
   ]
  },
  {
   "cell_type": "code",
   "execution_count": 2,
   "metadata": {},
   "outputs": [],
   "source": [
    "def separate_dataset(trainset, ratio = 0.5):\n",
    "    datastring = []\n",
    "    datatarget = []\n",
    "    for i in range(len(trainset.data)):\n",
    "        data_ = trainset.data[i].split('\\n')\n",
    "        data_ = list(filter(None, data_))\n",
    "        data_ = random.sample(data_, int(len(data_) * ratio))\n",
    "        for n in range(len(data_)):\n",
    "            data_[n] = clearstring(data_[n])\n",
    "        datastring += data_\n",
    "        for n in range(len(data_)):\n",
    "            datatarget.append(trainset.target[i])\n",
    "    return datastring, datatarget\n",
    "\n",
    "def clearstring(string):\n",
    "    string = re.sub('[^A-Za-z0-9 ]+', '', string)\n",
    "    string = string.split(' ')\n",
    "    string = filter(None, string)\n",
    "    string = ' '.join(string)\n",
    "    return string.lower()\n",
    "\n",
    "trainset = sklearn.datasets.load_files(container_path = 'data', encoding = 'UTF-8')\n",
    "trainset.data, trainset.target = separate_dataset(trainset,1.0)\n",
    "\n",
    "train = pd.DataFrame(trainset.data,columns=['sequence'])\n",
    "label = pd.DataFrame(trainset.target,columns=['labels'])"
   ]
  },
  {
   "cell_type": "code",
   "execution_count": 3,
   "metadata": {},
   "outputs": [],
   "source": [
    "num_words = 50000\n",
    "column_name = 'word_seg'\n",
    "word_seq_len = 1800\n",
    "embedding_vector = 200"
   ]
  },
  {
   "cell_type": "code",
   "execution_count": 6,
   "metadata": {},
   "outputs": [],
   "source": [
    "from keras.preprocessing import text,sequence\n",
    "from gensim.models import Word2Vec\n",
    "num_words = 50000\n",
    "import os\n",
    "import numpy as np\n",
    "\n",
    "def w2v_pad(df_train, col, maxlen_, victor_size):\n",
    "    tokenizer = text.Tokenizer()\n",
    "    tokenizer.fit_on_texts(list(df_train[col].values))\n",
    "    \n",
    "    train_ = sequence.pad_sequences(tokenizer.texts_to_sequences(df_train[col].values), maxlen=maxlen_)\n",
    "    word_index = tokenizer.word_index\n",
    "    \n",
    "    count = 0\n",
    "    nb_words = len(word_index)\n",
    "    print(nb_words)\n",
    "    \n",
    "    all_data = df_train[col]\n",
    "    file_name = './Word2Vec_' + col  +\"_\"+ '200' + '.model'\n",
    "    if not os.path.exists(file_name):\n",
    "        model = Word2Vec([[word for word in document.split(' ')] for document in all_data.values],\n",
    "                         size=victor_size, window=5, iter=10, workers=11, seed=2018, min_count=2)\n",
    "        model.save(file_name)\n",
    "    else:\n",
    "        model = Word2Vec.load(file_name)\n",
    "        \n",
    "    embedding_word2vec_matrix = np.zeros((nb_words+1, victor_size))\n",
    "    for word, i in word_index.items():\n",
    "        embedding_vector = model[word] if word in model else None\n",
    "        if embedding_vector is not None:\n",
    "            count += 1\n",
    "            embedding_word2vec_matrix[i] = embedding_vector\n",
    "        else:\n",
    "            unk_vec = np.random.random(victor_size) * 0.5\n",
    "            unk_vec = unk_vec - unk_vec.mean()\n",
    "            embedding_word2vec_matrix[i] = unk_vec    \n",
    "    \n",
    "    return train_, word_index, embedding_word2vec_matrix"
   ]
  },
  {
   "cell_type": "code",
   "execution_count": 7,
   "metadata": {},
   "outputs": [
    {
     "name": "stdout",
     "output_type": "stream",
     "text": [
      "20465\n"
     ]
    },
    {
     "name": "stderr",
     "output_type": "stream",
     "text": [
      "/usr/local/lib/python3.6/dist-packages/ipykernel_launcher.py:29: DeprecationWarning: Call to deprecated `__contains__` (Method will be removed in 4.0.0, use self.wv.__contains__() instead).\n",
      "/usr/local/lib/python3.6/dist-packages/ipykernel_launcher.py:29: DeprecationWarning: Call to deprecated `__getitem__` (Method will be removed in 4.0.0, use self.wv.__getitem__() instead).\n"
     ]
    }
   ],
   "source": [
    "train_, word2idx, word_embedding = w2v_pad(train, 'sequence', 40, 200)"
   ]
  },
  {
   "cell_type": "code",
   "execution_count": 9,
   "metadata": {},
   "outputs": [],
   "source": [
    "from sklearn.preprocessing import LabelEncoder\n",
    "from keras.utils import to_categorical\n",
    "\n",
    "lb = LabelEncoder()\n",
    "train_label = lb.fit_transform(label['labels'].values)\n",
    "train_label = to_categorical(train_label)"
   ]
  },
  {
   "cell_type": "code",
   "execution_count": 19,
   "metadata": {},
   "outputs": [],
   "source": [
    "class Model:\n",
    "    def __init__(self, size_layer, num_layers, embedding_matrix, \n",
    "                 dimension_output, learning_rate):\n",
    "        def cells(size=128, reuse = False):\n",
    "            return tf.nn.rnn_cell.BasicLSTMCell(size, reuse=reuse)\n",
    "        \n",
    "        def add_highway(x, i):\n",
    "            reshaped = tf.reshape(x, [-1, 40*200])\n",
    "            H = tf.layers.dense(reshaped, 40*200, tf.nn.relu)\n",
    "            T = tf.layers.dense(reshaped, 40*200, tf.sigmoid)\n",
    "            C = tf.subtract(tf.to_double(1.0), T)\n",
    "            highway_out = tf.add(tf.multiply(H, T), tf.multiply(H, C))\n",
    "            return tf.reshape(highway_out, [-1, 40, 200])\n",
    "    \n",
    "        self.X = tf.placeholder(tf.int32, [None, 40])\n",
    "        self.Y = tf.placeholder(tf.float32, [None, dimension_output])\n",
    "        \n",
    "        encoder_embedding = tf.Variable(embedding_matrix)\n",
    "        encoder_embedded = tf.nn.embedding_lookup(encoder_embedding, self.X)\n",
    "        w1 = tf.get_variable(\"w1\", [3, 200, 200],dtype=tf.float64)\n",
    "        b1 = tf.get_variable(\"b1\", [1, 1, 2], dtype=tf.float64)\n",
    "        out = tf.nn.conv1d(encoder_embedded, w1, stride=1, padding=\"SAME\")\n",
    "        \n",
    "        out = add_highway(out, 1)\n",
    "\n",
    "        rnn_cells = tf.nn.rnn_cell.MultiRNNCell([cells() for _ in range(num_layers)])\n",
    "        drop = tf.contrib.rnn.DropoutWrapper(rnn_cells, output_keep_prob=0.5)\n",
    "        outputs, _ = tf.nn.dynamic_rnn(drop, out, dtype=tf.float64)\n",
    "        \n",
    "        W = tf.get_variable('w',shape=(128, dimension_output),dtype=tf.float64,initializer=tf.orthogonal_initializer())\n",
    "        b = tf.get_variable('b',shape=(dimension_output),dtype=tf.float64,initializer=tf.zeros_initializer())\n",
    "        self.logits = tf.matmul(outputs[:, -1], W) + b\n",
    "        self.cost = tf.reduce_mean(tf.nn.softmax_cross_entropy_with_logits(logits = self.logits, labels = self.Y))\n",
    "        self.optimizer = tf.train.AdamOptimizer(learning_rate = learning_rate).minimize(self.cost)\n",
    "        correct_pred = tf.equal(tf.argmax(self.logits, 1), tf.argmax(self.Y, 1))\n",
    "        self.accuracy = tf.reduce_mean(tf.cast(correct_pred, tf.float32))"
   ]
  },
  {
   "cell_type": "code",
   "execution_count": 20,
   "metadata": {},
   "outputs": [],
   "source": [
    "size_layer = 128\n",
    "num_layers = 1\n",
    "embedded_size = 128\n",
    "dimension_output = len(trainset.target_names)\n",
    "learning_rate = 1e-3\n",
    "maxlen = 50\n",
    "batch_size = 128"
   ]
  },
  {
   "cell_type": "code",
   "execution_count": 21,
   "metadata": {},
   "outputs": [
    {
     "name": "stdout",
     "output_type": "stream",
     "text": [
      "WARNING:tensorflow:From <ipython-input-19-5dfdc8a67212>:11: to_double (from tensorflow.python.ops.math_ops) is deprecated and will be removed in a future version.\n",
      "Instructions for updating:\n",
      "Use tf.cast instead.\n",
      "WARNING:tensorflow:From <ipython-input-19-5dfdc8a67212>:5: BasicLSTMCell.__init__ (from tensorflow.python.ops.rnn_cell_impl) is deprecated and will be removed in a future version.\n",
      "Instructions for updating:\n",
      "This class is equivalent as tf.keras.layers.LSTMCell, and will be replaced by that in Tensorflow 2.0.\n",
      "WARNING:tensorflow:From <ipython-input-19-5dfdc8a67212>:26: MultiRNNCell.__init__ (from tensorflow.python.ops.rnn_cell_impl) is deprecated and will be removed in a future version.\n",
      "Instructions for updating:\n",
      "This class is equivalent as tf.keras.layers.StackedRNNCells, and will be replaced by that in Tensorflow 2.0.\n",
      "WARNING:tensorflow:From <ipython-input-19-5dfdc8a67212>:28: dynamic_rnn (from tensorflow.python.ops.rnn) is deprecated and will be removed in a future version.\n",
      "Instructions for updating:\n",
      "Please use `keras.layers.RNN(cell)`, which is equivalent to this API\n",
      "WARNING:tensorflow:From /usr/local/lib/python3.6/dist-packages/tensorflow/python/ops/rnn_cell_impl.py:1259: calling dropout (from tensorflow.python.ops.nn_ops) with keep_prob is deprecated and will be removed in a future version.\n",
      "Instructions for updating:\n",
      "Please use `rate` instead of `keep_prob`. Rate should be set to `rate = 1 - keep_prob`.\n",
      "WARNING:tensorflow:From <ipython-input-19-5dfdc8a67212>:33: softmax_cross_entropy_with_logits (from tensorflow.python.ops.nn_ops) is deprecated and will be removed in a future version.\n",
      "Instructions for updating:\n",
      "\n",
      "Future major versions of TensorFlow will allow gradients to flow\n",
      "into the labels input on backprop by default.\n",
      "\n",
      "See `tf.nn.softmax_cross_entropy_with_logits_v2`.\n",
      "\n",
      "WARNING:tensorflow:From /usr/local/lib/python3.6/dist-packages/tensorflow/python/ops/array_grad.py:425: to_int32 (from tensorflow.python.ops.math_ops) is deprecated and will be removed in a future version.\n",
      "Instructions for updating:\n",
      "Use tf.cast instead.\n"
     ]
    }
   ],
   "source": [
    "tf.reset_default_graph()\n",
    "sess = tf.InteractiveSession()\n",
    "model = Model(size_layer,num_layers,word_embedding,dimension_output,learning_rate)\n",
    "sess.run(tf.global_variables_initializer())"
   ]
  },
  {
   "cell_type": "code",
   "execution_count": 22,
   "metadata": {},
   "outputs": [],
   "source": [
    "train_X, test_X, train_Y, test_Y = train_test_split(train_, train_label, test_size = 0.2)"
   ]
  },
  {
   "cell_type": "code",
   "execution_count": 23,
   "metadata": {},
   "outputs": [
    {
     "name": "stdout",
     "output_type": "stream",
     "text": [
      "epoch: 0, pass acc: 0.000000, current acc: 0.585449\n",
      "time taken: 8.406481504440308\n",
      "epoch: 0, training loss: 0.691094, training acc: 0.556226, valid loss: 0.670667, valid acc: 0.585449\n",
      "\n",
      "epoch: 1, pass acc: 0.585449, current acc: 0.679688\n",
      "time taken: 5.805678367614746\n",
      "epoch: 1, training loss: 0.615616, training acc: 0.660156, valid loss: 0.593044, valid acc: 0.679688\n",
      "\n",
      "epoch: 2, pass acc: 0.679688, current acc: 0.756836\n",
      "time taken: 5.724946975708008\n",
      "epoch: 2, training loss: 0.359799, training acc: 0.842093, valid loss: 0.600550, valid acc: 0.756836\n",
      "\n",
      "time taken: 5.990009546279907\n",
      "epoch: 3, training loss: 0.209559, training acc: 0.917495, valid loss: 0.840374, valid acc: 0.711914\n",
      "\n",
      "time taken: 6.08944296836853\n",
      "epoch: 4, training loss: 0.120347, training acc: 0.953007, valid loss: 0.908999, valid acc: 0.740723\n",
      "\n",
      "time taken: 5.823898792266846\n",
      "epoch: 5, training loss: 0.088830, training acc: 0.964252, valid loss: 1.212389, valid acc: 0.725098\n",
      "\n",
      "time taken: 5.847049236297607\n",
      "epoch: 6, training loss: 0.037038, training acc: 0.986624, valid loss: 1.215557, valid acc: 0.739746\n",
      "\n",
      "time taken: 5.844536542892456\n",
      "epoch: 7, training loss: 0.027517, training acc: 0.988991, valid loss: 1.223110, valid acc: 0.733398\n",
      "\n",
      "break epoch:8\n",
      "\n"
     ]
    }
   ],
   "source": [
    "EARLY_STOPPING, CURRENT_CHECKPOINT, CURRENT_ACC, EPOCH = 5, 0, 0, 0\n",
    "while True:\n",
    "    lasttime = time.time()\n",
    "    if CURRENT_CHECKPOINT == EARLY_STOPPING:\n",
    "        print('break epoch:%d\\n'%(EPOCH))\n",
    "        break\n",
    "        \n",
    "    train_acc, train_loss, test_acc, test_loss = 0, 0, 0, 0\n",
    "    for i in range(0, (len(train_X) // batch_size) * batch_size, batch_size):\n",
    "        batch_x = train_X[i:i+batch_size]\n",
    "        batch_y = train_Y[i:i+batch_size]\n",
    "        acc, loss, _ = sess.run([model.accuracy, model.cost, model.optimizer], \n",
    "                           feed_dict = {model.X : batch_x, model.Y : batch_y})\n",
    "        train_loss += loss\n",
    "        train_acc += acc\n",
    "    \n",
    "    for i in range(0, (len(test_X) // batch_size) * batch_size, batch_size):\n",
    "        batch_x = test_X[i:i+batch_size]\n",
    "        batch_y = test_Y[i:i+batch_size]\n",
    "        acc, loss = sess.run([model.accuracy, model.cost], \n",
    "                           feed_dict = {model.X : batch_x, model.Y : batch_y})\n",
    "        test_loss += loss\n",
    "        test_acc += acc\n",
    "    \n",
    "    train_loss /= (len(train_X) // batch_size)\n",
    "    train_acc /= (len(train_X) // batch_size)\n",
    "    test_loss /= (len(test_X) // batch_size)\n",
    "    test_acc /= (len(test_X) // batch_size)\n",
    "    \n",
    "    if test_acc > CURRENT_ACC:\n",
    "        print('epoch: %d, pass acc: %f, current acc: %f'%(EPOCH,CURRENT_ACC, test_acc))\n",
    "        CURRENT_ACC = test_acc\n",
    "        CURRENT_CHECKPOINT = 0\n",
    "    else:\n",
    "        CURRENT_CHECKPOINT += 1\n",
    "        \n",
    "    print('time taken:', time.time()-lasttime)\n",
    "    print('epoch: %d, training loss: %f, training acc: %f, valid loss: %f, valid acc: %f\\n'%(EPOCH,train_loss,\n",
    "                                                                                          train_acc,test_loss,\n",
    "                                                                                          test_acc))\n",
    "    EPOCH += 1"
   ]
  },
  {
   "cell_type": "code",
   "execution_count": null,
   "metadata": {},
   "outputs": [],
   "source": []
  }
 ],
 "metadata": {
  "kernelspec": {
   "display_name": "Python 3",
   "language": "python",
   "name": "python3"
  },
  "language_info": {
   "codemirror_mode": {
    "name": "ipython",
    "version": 3
   },
   "file_extension": ".py",
   "mimetype": "text/x-python",
   "name": "python",
   "nbconvert_exporter": "python",
   "pygments_lexer": "ipython3",
   "version": "3.6.8"
  }
 },
 "nbformat": 4,
 "nbformat_minor": 2
}
