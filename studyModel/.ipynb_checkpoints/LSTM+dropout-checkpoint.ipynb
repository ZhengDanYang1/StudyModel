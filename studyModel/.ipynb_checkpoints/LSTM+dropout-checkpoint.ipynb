{
 "cells": [
  {
   "cell_type": "code",
   "execution_count": 1,
   "metadata": {},
   "outputs": [],
   "source": [
    "import tensorflow as tf\n",
    "from sklearn.model_selection import train_test_split\n",
    "import time\n",
    "import sklearn.datasets\n",
    "import random\n",
    "import re\n",
    "import pandas as pd\n",
    "import feather"
   ]
  },
  {
   "cell_type": "code",
   "execution_count": 2,
   "metadata": {},
   "outputs": [],
   "source": [
    "def separate_dataset(trainset, ratio = 0.5):\n",
    "    datastring = []\n",
    "    datatarget = []\n",
    "    for i in range(len(trainset.data)):\n",
    "        data_ = trainset.data[i].split('\\n')\n",
    "        data_ = list(filter(None, data_))\n",
    "        data_ = random.sample(data_, int(len(data_) * ratio))\n",
    "        for n in range(len(data_)):\n",
    "            data_[n] = clearstring(data_[n])\n",
    "        datastring += data_\n",
    "        for n in range(len(data_)):\n",
    "            datatarget.append(trainset.target[i])\n",
    "    return datastring, datatarget\n",
    "\n",
    "def clearstring(string):\n",
    "    string = re.sub('[^A-Za-z0-9 ]+', '', string)\n",
    "    string = string.split(' ')\n",
    "    string = filter(None, string)\n",
    "    string = ' '.join(string)\n",
    "    return string.lower()\n",
    "\n",
    "trainset = sklearn.datasets.load_files(container_path = 'data', encoding = 'UTF-8')\n",
    "trainset.data, trainset.target = separate_dataset(trainset,1.0)\n",
    "\n",
    "train = pd.DataFrame(trainset.data,columns=['sequence'])\n",
    "label = pd.DataFrame(trainset.target,columns=['labels'])"
   ]
  },
  {
   "cell_type": "code",
   "execution_count": 3,
   "metadata": {},
   "outputs": [],
   "source": [
    "num_words = 500000\n",
    "column_name=\"word_seg\"\n",
    "word_seq_len = 1800\n",
    "embedding_vector=200 "
   ]
  },
  {
   "cell_type": "code",
   "execution_count": 4,
   "metadata": {},
   "outputs": [
    {
     "name": "stderr",
     "output_type": "stream",
     "text": [
      "Using TensorFlow backend.\n"
     ]
    }
   ],
   "source": [
    "from keras.preprocessing import text,sequence\n",
    "from gensim.models import Word2Vec\n",
    "num_words = 500000\n",
    "import os\n",
    "import numpy as np\n",
    "#词向量\n",
    "def w2v_pad(df_train,col, maxlen_,victor_size):\n",
    "    \n",
    "    tokenizer = text.Tokenizer(num_words=num_words, lower=False,filters=\"\")\n",
    "    tokenizer.fit_on_texts(list(df_train[col].values))\n",
    "    #padding sequence\n",
    "    train_ = sequence.pad_sequences(tokenizer.texts_to_sequences(df_train[col].values), maxlen=maxlen_)\n",
    "    \n",
    "    word_index = tokenizer.word_index\n",
    "    \n",
    "    count = 0\n",
    "    nb_words = len(word_index)\n",
    "    print(nb_words)\n",
    "    all_data=df_train[col]\n",
    "    file_name = './Word2Vec_' + col  +\"_\"+ '200' + '.model'\n",
    "    if not os.path.exists(file_name):\n",
    "        #word2vec建模\n",
    "        model = Word2Vec([[word for word in document.split(' ')] for document in all_data.values],\n",
    "                         size=victor_size, window=5, iter=10, workers=11, seed=2018, min_count=2)\n",
    "        model.save(file_name)\n",
    "    else:\n",
    "        model = Word2Vec.load(file_name)\n",
    "    print(\"add word2vec finished....\")    \n",
    "\n",
    "\n",
    "\n",
    "    embedding_word2vec_matrix = np.zeros((nb_words + 1, victor_size))\n",
    "    for word, i in word_index.items():\n",
    "        embedding_vector = model[word] if word in model else None\n",
    "        if embedding_vector is not None:\n",
    "            count += 1\n",
    "            embedding_word2vec_matrix[i] = embedding_vector\n",
    "        else:\n",
    "            unk_vec = np.random.random(victor_size) * 0.5\n",
    "            unk_vec = unk_vec - unk_vec.mean()\n",
    "            embedding_word2vec_matrix[i] = unk_vec\n",
    "\n",
    "    \n",
    "    return train_, word_index, embedding_word2vec_matrix"
   ]
  },
  {
   "cell_type": "code",
   "execution_count": 5,
   "metadata": {},
   "outputs": [
    {
     "name": "stdout",
     "output_type": "stream",
     "text": [
      "20465\n",
      "add word2vec finished....\n"
     ]
    },
    {
     "name": "stderr",
     "output_type": "stream",
     "text": [
      "/usr/local/lib/python3.6/dist-packages/ipykernel_launcher.py:34: DeprecationWarning: Call to deprecated `__contains__` (Method will be removed in 4.0.0, use self.wv.__contains__() instead).\n",
      "/usr/local/lib/python3.6/dist-packages/ipykernel_launcher.py:34: DeprecationWarning: Call to deprecated `__getitem__` (Method will be removed in 4.0.0, use self.wv.__getitem__() instead).\n"
     ]
    }
   ],
   "source": [
    "train_, word2idx, word_embedding = w2v_pad(train, 'sequence', 40, 200)"
   ]
  },
  {
   "cell_type": "code",
   "execution_count": 6,
   "metadata": {},
   "outputs": [],
   "source": [
    "from sklearn.preprocessing import LabelEncoder\n",
    "from keras.utils import to_categorical\n",
    "\n",
    "lb = LabelEncoder()\n",
    "train_label = lb.fit_transform(label['labels'].values)\n",
    "train_label = to_categorical(train_label)#变为one-hot向量"
   ]
  },
  {
   "cell_type": "code",
   "execution_count": 16,
   "metadata": {},
   "outputs": [],
   "source": [
    "class Model:\n",
    "    def __init__(self, size_layer, num_layers, embedding_matrix, \n",
    "                 dimension_output, learning_rate):\n",
    "        def cells(size=128, reuse = False):\n",
    "            return tf.nn.rnn_cell.BasicLSTMCell(size, reuse=reuse)\n",
    "        \n",
    "        self.X = tf.placeholder(tf.int32, [None, None])\n",
    "        self.Y = tf.placeholder(tf.float32, [None, dimension_output])\n",
    "        \n",
    "        encoder_embeddings = tf.Variable(embedding_matrix)\n",
    "        encoder_embedded = tf.nn.embedding_lookup(encoder_embeddings, self.X)\n",
    "        \n",
    "        rnn_cells = tf.nn.rnn_cell.MultiRNNCell([cells() for _ in range(num_layers)])\n",
    "        drop = tf.contrib.rnn.DropoutWrapper(rnn_cells, output_keep_prob=0.5)\n",
    "        outputs, _ = tf.nn.dynamic_rnn(drop, encoder_embedded, dtype=tf.float64)\n",
    "        \n",
    "        W = tf.get_variable('w',shape=(128, dimension_output),dtype=tf.float64,initializer=tf.orthogonal_initializer())\n",
    "        b = tf.get_variable('b',shape=(dimension_output),dtype=tf.float64,initializer=tf.zeros_initializer())\n",
    "        self.logits = tf.matmul(outputs[:, -1], W) + b\n",
    "        self.cost = tf.reduce_mean(tf.nn.softmax_cross_entropy_with_logits(logits = self.logits, labels = self.Y))\n",
    "        self.optimizer = tf.train.AdamOptimizer(learning_rate = learning_rate).minimize(self.cost)\n",
    "        correct_pred = tf.equal(tf.argmax(self.logits, 1), tf.argmax(self.Y, 1))\n",
    "        self.accuracy = tf.reduce_mean(tf.cast(correct_pred, tf.float32))"
   ]
  },
  {
   "cell_type": "code",
   "execution_count": 17,
   "metadata": {},
   "outputs": [],
   "source": [
    "size_layer = 128\n",
    "num_layers = 1\n",
    "embedded_size = 128\n",
    "dimension_output = len(trainset.target_names)\n",
    "learning_rate = 1e-3\n",
    "maxlen = 50\n",
    "batch_size = 128"
   ]
  },
  {
   "cell_type": "code",
   "execution_count": 18,
   "metadata": {
    "scrolled": false
   },
   "outputs": [
    {
     "name": "stdout",
     "output_type": "stream",
     "text": [
      "WARNING:tensorflow:From /usr/local/lib/python3.6/dist-packages/tensorflow/python/ops/rnn_cell_impl.py:1259: calling dropout (from tensorflow.python.ops.nn_ops) with keep_prob is deprecated and will be removed in a future version.\n",
      "Instructions for updating:\n",
      "Please use `rate` instead of `keep_prob`. Rate should be set to `rate = 1 - keep_prob`.\n",
      "WARNING:tensorflow:From <ipython-input-16-1a46b44c132d>:20: softmax_cross_entropy_with_logits (from tensorflow.python.ops.nn_ops) is deprecated and will be removed in a future version.\n",
      "Instructions for updating:\n",
      "\n",
      "Future major versions of TensorFlow will allow gradients to flow\n",
      "into the labels input on backprop by default.\n",
      "\n",
      "See `tf.nn.softmax_cross_entropy_with_logits_v2`.\n",
      "\n",
      "WARNING:tensorflow:From /usr/local/lib/python3.6/dist-packages/tensorflow/python/ops/array_grad.py:425: to_int32 (from tensorflow.python.ops.math_ops) is deprecated and will be removed in a future version.\n",
      "Instructions for updating:\n",
      "Use tf.cast instead.\n"
     ]
    }
   ],
   "source": [
    "tf.reset_default_graph()\n",
    "sess = tf.InteractiveSession()\n",
    "model = Model(size_layer,num_layers,word_embedding,dimension_output,learning_rate)\n",
    "sess.run(tf.global_variables_initializer())"
   ]
  },
  {
   "cell_type": "code",
   "execution_count": 19,
   "metadata": {},
   "outputs": [],
   "source": [
    "train_X, test_X, train_Y, test_Y = train_test_split(train_, train_label, test_size = 0.2)"
   ]
  },
  {
   "cell_type": "code",
   "execution_count": 20,
   "metadata": {},
   "outputs": [
    {
     "name": "stdout",
     "output_type": "stream",
     "text": [
      "epoch: 0, pass acc: 0.000000, current acc: 0.602051\n",
      "time taken: 4.527921915054321\n",
      "epoch: 0, training loss: 0.682814, training acc: 0.559896, valid loss: 0.663147, valid acc: 0.602051\n",
      "\n",
      "epoch: 1, pass acc: 0.602051, current acc: 0.711914\n",
      "time taken: 3.640389919281006\n",
      "epoch: 1, training loss: 0.575495, training acc: 0.701468, valid loss: 0.601964, valid acc: 0.711914\n",
      "\n",
      "epoch: 2, pass acc: 0.711914, current acc: 0.748047\n",
      "time taken: 3.5011260509490967\n",
      "epoch: 2, training loss: 0.288120, training acc: 0.885653, valid loss: 0.575888, valid acc: 0.748047\n",
      "\n",
      "time taken: 3.4591550827026367\n",
      "epoch: 3, training loss: 0.111530, training acc: 0.961648, valid loss: 0.857007, valid acc: 0.748047\n",
      "\n",
      "time taken: 3.3996968269348145\n",
      "epoch: 4, training loss: 0.055373, training acc: 0.982481, valid loss: 0.879291, valid acc: 0.742676\n",
      "\n",
      "time taken: 3.6910409927368164\n",
      "epoch: 5, training loss: 0.025955, training acc: 0.991832, valid loss: 1.195721, valid acc: 0.726074\n",
      "\n",
      "time taken: 3.7799019813537598\n",
      "epoch: 6, training loss: 0.022299, training acc: 0.993134, valid loss: 0.968071, valid acc: 0.738281\n",
      "\n",
      "time taken: 3.4638049602508545\n",
      "epoch: 7, training loss: 0.012158, training acc: 0.996804, valid loss: 1.447335, valid acc: 0.728027\n",
      "\n",
      "break epoch:8\n",
      "\n"
     ]
    }
   ],
   "source": [
    "EARLY_STOPPING, CURRENT_CHECKPOINT, CURRENT_ACC, EPOCH = 5, 0, 0, 0\n",
    "while True:\n",
    "    lasttime = time.time()\n",
    "    if CURRENT_CHECKPOINT == EARLY_STOPPING:\n",
    "        print('break epoch:%d\\n'%(EPOCH))\n",
    "        break\n",
    "        \n",
    "    train_acc, train_loss, test_acc, test_loss = 0, 0, 0, 0\n",
    "    for i in range(0, (len(train_X) // batch_size) * batch_size, batch_size):\n",
    "        batch_x = train_X[i:i+batch_size]\n",
    "        batch_y = train_Y[i:i+batch_size]\n",
    "        acc, loss, _ = sess.run([model.accuracy, model.cost, model.optimizer], \n",
    "                           feed_dict = {model.X : batch_x, model.Y : batch_y})\n",
    "        train_loss += loss\n",
    "        train_acc += acc\n",
    "    \n",
    "    for i in range(0, (len(test_X) // batch_size) * batch_size, batch_size):\n",
    "        batch_x = test_X[i:i+batch_size]\n",
    "        batch_y = test_Y[i:i+batch_size]\n",
    "        acc, loss = sess.run([model.accuracy, model.cost], \n",
    "                           feed_dict = {model.X : batch_x, model.Y : batch_y})\n",
    "        test_loss += loss\n",
    "        test_acc += acc\n",
    "    \n",
    "    train_loss /= (len(train_X) // batch_size)\n",
    "    train_acc /= (len(train_X) // batch_size)\n",
    "    test_loss /= (len(test_X) // batch_size)\n",
    "    test_acc /= (len(test_X) // batch_size)\n",
    "    \n",
    "    if test_acc > CURRENT_ACC:\n",
    "        print('epoch: %d, pass acc: %f, current acc: %f'%(EPOCH,CURRENT_ACC, test_acc))\n",
    "        CURRENT_ACC = test_acc\n",
    "        CURRENT_CHECKPOINT = 0\n",
    "    else:\n",
    "        CURRENT_CHECKPOINT += 1\n",
    "        \n",
    "    print('time taken:', time.time()-lasttime)\n",
    "    print('epoch: %d, training loss: %f, training acc: %f, valid loss: %f, valid acc: %f\\n'%(EPOCH,train_loss,\n",
    "                                                                                          train_acc,test_loss,\n",
    "                                                                                          test_acc))\n",
    "    EPOCH += 1"
   ]
  },
  {
   "cell_type": "code",
   "execution_count": null,
   "metadata": {},
   "outputs": [],
   "source": []
  }
 ],
 "metadata": {
  "kernelspec": {
   "display_name": "Python 3",
   "language": "python",
   "name": "python3"
  },
  "language_info": {
   "codemirror_mode": {
    "name": "ipython",
    "version": 3
   },
   "file_extension": ".py",
   "mimetype": "text/x-python",
   "name": "python",
   "nbconvert_exporter": "python",
   "pygments_lexer": "ipython3",
   "version": "3.6.8"
  }
 },
 "nbformat": 4,
 "nbformat_minor": 2
}
